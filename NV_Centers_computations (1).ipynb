{
  "nbformat": 4,
  "nbformat_minor": 0,
  "metadata": {
    "colab": {
      "provenance": []
    },
    "kernelspec": {
      "name": "python3",
      "display_name": "Python 3"
    },
    "language_info": {
      "name": "python"
    }
  },
  "cells": [
    {
      "cell_type": "code",
      "source": [
        "import pandas as pd\n",
        "import numpy as np\n",
        "\n",
        "#Strain Shift Constant\n",
        "D = 2.87022  # Given value of D in GHz\n",
        "\n",
        "input_excel_path = \"scidavis_table.xlsx\"\n",
        "output_excel_path = \"scidavis_table_with_results.xlsx\"\n",
        "\n",
        "data = pd.DataFrame({\n",
        "    \"X\": [1.6, 1.8, 2.0, 2.2, 2.4, 2.6],\n",
        "    \"f_minus\": [2.86621, 2.86583, 2.86526, 2.86507, 2.86468, 2.8643],\n",
        "    \"f_plus\": [2.87629, 2.87705, 2.87838, 2.87933, 2.88047, 2.8818]\n",
        "})\n",
        "\n",
        "# Function to compute \\beta^2\n",
        "def compute_beta_squared(row, D):\n",
        "    f_minus = row['f_minus']\n",
        "    f_plus = row['f_plus']\n",
        "    beta_squared = (1/3) * (f_minus**2 + f_plus**2 - f_minus*f_plus - D**2)\n",
        "    return beta_squared\n",
        "\n",
        "# Function to compute \\Delta\n",
        "def compute_delta(row, beta_squared, D, E):\n",
        "    f_minus = row['f_minus']\n",
        "    f_plus = row['f_plus']\n",
        "    delta = (1 / (27 * beta_squared)) * (\n",
        "        7 * D**3\n",
        "        - 2 * (f_plus + f_minus) * (2 * f_plus - f_minus) * (2 * f_minus - f_plus)\n",
        "        - 3 * D * (f_minus**2 + f_plus**2 - f_minus*f_plus)\n",
        "    )\n",
        "    return delta\n",
        "\n",
        "# Function to compute cos(2θ) and θ\n",
        "def compute_cos_theta_and_theta(row, D):\n",
        "    delta = row['delta']\n",
        "    cos_2theta = delta / D  # Compute cos(2θ)\n",
        "    # Ensure the value is in the range [-1, 1] to avoid invalid results\n",
        "    #cos_2theta = max(min(cos_2theta, 1), -1)\n",
        "    theta = np.arccos(np.sqrt((1 + cos_2theta) / 2)) * 180 / np.pi  # Compute θ in degrees\n",
        "    return pd.Series({'cos_2theta': cos_2theta, 'theta': theta})\n",
        "\n",
        "# Compute beta^2\n",
        "data['beta_squared'] = data.apply(compute_beta_squared, axis=1, D=D)\n",
        "\n",
        "# Compute \\Delta\n",
        "data['delta'] = data.apply(lambda row: compute_delta(row, row['beta_squared'], D, E), axis=1)\n",
        "\n",
        "# Compute cos(2θ) and θ\n",
        "cos_theta_and_theta = data.apply(compute_cos_theta_and_theta, axis=1, D=D)\n",
        "data['cos_2theta'] = cos_theta_and_theta['cos_2theta']\n",
        "data['theta'] = cos_theta_and_theta['theta']\n",
        "\n",
        "data.to_excel(output_excel_path, index=False, sheet_name=\"Results\")\n",
        "\n",
        "print(f\"Results saved to {output_excel_path}\")\n"
      ],
      "metadata": {
        "colab": {
          "base_uri": "https://localhost:8080/"
        },
        "id": "FIunmFhiY15H",
        "outputId": "e3ab4479-a3f2-4715-bfd6-f0a3f5cc8bb9"
      },
      "execution_count": 1,
      "outputs": [
        {
          "output_type": "stream",
          "name": "stdout",
          "text": [
            "Results saved to scidavis_table_with_results.xlsx\n"
          ]
        }
      ]
    }
  ]
}